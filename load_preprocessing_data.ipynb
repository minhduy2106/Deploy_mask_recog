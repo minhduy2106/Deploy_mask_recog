{
 "cells": [
  {
   "cell_type": "code",
   "execution_count": 2,
   "metadata": {
    "pycharm": {
     "name": "#%%\n"
    }
   },
   "outputs": [],
   "source": [
    "import matplotlib.pyplot as plt\n",
    "import numpy as np\n",
    "import argparse\n",
    "import os\n",
    "import cv2\n",
    "from tqdm import  tqdm"
   ]
  },
  {
   "attachments": {},
   "cell_type": "markdown",
   "metadata": {
    "pycharm": {
     "name": "#%% md\n"
    }
   },
   "source": [
    "## Load data"
   ]
  },
  {
   "cell_type": "code",
   "execution_count": 3,
   "metadata": {
    "pycharm": {
     "name": "#%%\n"
    }
   },
   "outputs": [
    {
     "name": "stderr",
     "output_type": "stream",
     "text": [
      "100%|██████████| 11/11 [01:48<00:00,  9.85s/it]\n",
      "100%|██████████| 11/11 [01:52<00:00, 10.26s/it]\n"
     ]
    }
   ],
   "source": [
    "Data_path = 'data'\n",
    "classes = ['ICMFD', 'CMFD']\n",
    "data = []\n",
    "labels = []\n",
    "\n",
    "for i in classes:\n",
    "    path = os.path.join(Data_path, i)\n",
    "    class_num = classes.index(i)\n",
    "    for folder in tqdm(os.listdir(path)):\n",
    "        folder_path = os.path.join(path, folder)\n",
    "        for img in os.listdir(folder_path):\n",
    "            try:\n",
    "                image = cv2.imread(os.path.join(folder_path, img))\n",
    "                image = cv2.resize(image, (224,224))\n",
    "                image = cv2.normalize(image, None, alpha=0, beta=255, norm_type=cv2.NORM_MINMAX, dtype=cv2.CV_8U)\n",
    "                data.append([image, class_num])\n",
    "            except Exception as e:\n",
    "                print(f\"An exception occurred: {e}\")\n",
    "                pass"
   ]
  },
  {
   "attachments": {},
   "cell_type": "markdown",
   "metadata": {
    "pycharm": {
     "name": "#%% md\n"
    }
   },
   "source": [
    "## PreProcessing data for FastRcnn using tesorflow"
   ]
  },
  {
   "cell_type": "code",
   "execution_count": 4,
   "metadata": {
    "pycharm": {
     "name": "#%%\n"
    }
   },
   "outputs": [],
   "source": [
    "X,y = [],[]\n",
    "\n",
    "for a,b in data:\n",
    "    X.append(a)\n",
    "    y.append(b)\n",
    "\n",
    "X = np.array(X)\n",
    "y = np.array(y)"
   ]
  },
  {
   "cell_type": "code",
   "execution_count": 5,
   "metadata": {
    "pycharm": {
     "name": "#%%\n"
    }
   },
   "outputs": [
    {
     "name": "stdout",
     "output_type": "stream",
     "text": [
      "X_shape : (20573, 224, 224, 3)\n",
      "y_shape : (20573,)\n"
     ]
    }
   ],
   "source": [
    "print(f'X_shape : {X.shape}')\n",
    "print(f'y_shape : {y.shape}')"
   ]
  },
  {
   "cell_type": "code",
   "execution_count": 6,
   "metadata": {
    "pycharm": {
     "name": "#%%\n"
    }
   },
   "outputs": [],
   "source": [
    "import pickle\n",
    "\n",
    "pickle_out = open('X_1.pickle', 'wb')\n",
    "pickle.dump(X, pickle_out)\n",
    "pickle_out.close()\n",
    "\n",
    "pickle_out = open('y_1.pickle', 'wb')\n",
    "pickle.dump(y, pickle_out)\n",
    "pickle_out.close()"
   ]
  },
  {
   "cell_type": "code",
   "execution_count": 2,
   "metadata": {
    "pycharm": {
     "name": "#%%\n"
    }
   },
   "outputs": [],
   "source": [
    "import pickle\n",
    "\n",
    "X = pickle.load(open('X.pickle','rb'))\n",
    "y = pickle.load(open('y.pickle','rb'))"
   ]
  },
  {
   "cell_type": "code",
   "execution_count": 3,
   "metadata": {
    "pycharm": {
     "name": "#%%\n"
    }
   },
   "outputs": [],
   "source": [
    "threshhold = 0.5"
   ]
  },
  {
   "cell_type": "code",
   "execution_count": 4,
   "metadata": {
    "pycharm": {
     "name": "#%%\n"
    }
   },
   "outputs": [
    {
     "ename": "KeyboardInterrupt",
     "evalue": "",
     "output_type": "error",
     "traceback": [
      "\u001B[0;31m---------------------------------------------------------------------------\u001B[0m",
      "\u001B[0;31mKeyboardInterrupt\u001B[0m                         Traceback (most recent call last)",
      "Cell \u001B[0;32mIn[4], line 7\u001B[0m\n\u001B[1;32m      5\u001B[0m img \u001B[39m=\u001B[39m X[\u001B[39m1\u001B[39m]\n\u001B[1;32m      6\u001B[0m cv2\u001B[39m.\u001B[39mimshow(\u001B[39m'\u001B[39m\u001B[39mh\u001B[39m\u001B[39m'\u001B[39m, img)\n\u001B[0;32m----> 7\u001B[0m cv2\u001B[39m.\u001B[39;49mwaitKey()\n\u001B[1;32m      8\u001B[0m cv2\u001B[39m.\u001B[39mdestroyAllWindows()\n\u001B[1;32m      9\u001B[0m img \u001B[39m=\u001B[39m img\u001B[39m.\u001B[39mreshape((\u001B[39m-\u001B[39m\u001B[39m1\u001B[39m, \u001B[39m224\u001B[39m, \u001B[39m224\u001B[39m, \u001B[39m3\u001B[39m))\n",
      "\u001B[0;31mKeyboardInterrupt\u001B[0m: "
     ]
    },
    {
     "ename": "",
     "evalue": "",
     "output_type": "error",
     "traceback": [
      "\u001B[1;31mThe Kernel crashed while executing code in the the current cell or a previous cell. Please review the code in the cell(s) to identify a possible cause of the failure. Click <a href='https://aka.ms/vscodeJupyterKernelCrash'>here</a> for more info. View Jupyter <a href='command:jupyter.viewOutput'>log</a> for further details."
     ]
    }
   ],
   "source": [
    "import tensorflow as tf\n",
    "import numpy as np\n",
    "import cv2\n",
    "\n",
    "img = X[1]\n",
    "cv2.imshow('h', img)\n",
    "cv2.waitKey()\n",
    "cv2.destroyAllWindows()\n",
    "img = img.reshape((-1, 224, 224, 3))\n",
    "model = tf.keras.models.load_model('recog_mask.h5', compile=False)\n",
    "y_pred = model.predict(img)\n",
    "y_predict = y_pred[0,1]\n",
    "print(y_predict)\n"
   ]
  }
 ],
 "metadata": {
  "kernelspec": {
   "display_name": "mask_detection",
   "language": "python",
   "name": "python3"
  },
  "language_info": {
   "codemirror_mode": {
    "name": "ipython",
    "version": 3
   },
   "file_extension": ".py",
   "mimetype": "text/x-python",
   "name": "python",
   "nbconvert_exporter": "python",
   "pygments_lexer": "ipython3",
   "version": "3.10.0"
  },
  "orig_nbformat": 4,
  "vscode": {
   "interpreter": {
    "hash": "9993761ac926f0401e6064f98cb090e0f49fb287b65127edf0f084bb634e4b98"
   }
  }
 },
 "nbformat": 4,
 "nbformat_minor": 2
}